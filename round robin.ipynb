{
 "cells": [
  {
   "cell_type": "code",
   "execution_count": 1,
   "id": "d8155297",
   "metadata": {},
   "outputs": [
    {
     "data": {
      "application/javascript": [
       "\n",
       "        if (window._pyforest_update_imports_cell) { window._pyforest_update_imports_cell('import pandas as pd'); }\n",
       "    "
      ],
      "text/plain": [
       "<IPython.core.display.Javascript object>"
      ]
     },
     "metadata": {},
     "output_type": "display_data"
    },
    {
     "name": "stdout",
     "output_type": "stream",
     "text": [
      "|   arrival time |   execution time | service time                             |   turnaround time |   waiting time |\n",
      "|----------------|------------------|------------------------------------------|-------------------|----------------|\n",
      "|              0 |                6 | [0, 24]                                  |                27 |             21 |\n",
      "|              1 |               15 | [3, 27, 48, 68, 83]                      |                85 |             70 |\n",
      "|              2 |               20 | [6, 30, 51, 71, 86, 97, 106]             |               106 |             86 |\n",
      "|              3 |                8 | [9, 33, 54]                              |                53 |             45 |\n",
      "|              4 |               18 | [12, 36, 56, 74, 89, 100]                |                99 |             81 |\n",
      "|              5 |               26 | [15, 39, 59, 77, 92, 103, 108, 111, 114] |               111 |             85 |\n",
      "|              6 |               14 | [18, 42, 62, 80, 95]                     |                91 |             77 |\n",
      "|              7 |                9 | [21, 45, 65]                             |                61 |             52 |\n",
      "Avg. Waiting Time: 64.625\n",
      "Avg. Turnaround Time: 79.125\n"
     ]
    }
   ],
   "source": [
    "from itertools import cycle\n",
    "from rich.console import Console\n",
    "from rich.table import Table\n",
    "from tabulate import tabulate\n",
    "\n",
    "def sorting(queue_fcfs):\n",
    "    queue_fcfs.sort(key=lambda x: x[1]) #sort by arrival time\n",
    "    return queue_fcfs\n",
    "def get_process(all_process,q=3,count=0):\n",
    "    run = True\n",
    "    while run:\n",
    "        index= next(index_of_list)\n",
    "        process = all_process[index]\n",
    "        if sum([p[4]for p in all_process])>0:\n",
    "            if process[3] != 2 : #check process done or not\n",
    "                if process[4]>=q:\n",
    "                    process[5].append(count)\n",
    "                    count += q\n",
    "                    process[4] -= q\n",
    "                    if process[4] == 0:\n",
    "                        process[3] = 2 #0:hold,1:not hold or 2:done \n",
    "                        process[6] = count #time of completion\n",
    "                        process[7] = count - process[1] #turnaround time\n",
    "                        process[8] = process[7] - process[2] #waiting time\n",
    "                    else:\n",
    "                        process[3] = 1\n",
    "                else:\n",
    "                    process[5].append(count) #service time list\n",
    "                    count += process[4]\n",
    "                    process[4] = 0\n",
    "                    process[3] = 2 #0:hold,1:not hold or 2:done \n",
    "                    process[6] = count #time of completion\n",
    "                    process[7] = count - process[1] #turnaround time\n",
    "                    process[8] = process[7] - process[2] #waiting time\n",
    "            else:\n",
    "                continue\n",
    "        else:\n",
    "            df = create_df(all_process)\n",
    "            run = False\n",
    "    return df\n",
    "def create_df(all_process):\n",
    "    df = pd.DataFrame(all_process,columns=['index of process','arrival time','execution time','hold_nothold_done','rest value','service time','time of completion','turnaround time','waiting time'])\n",
    "    df.drop(['index of process','hold_nothold_done','rest value','time of completion'],axis=1,inplace=True)\n",
    "    return df            \n",
    "def read_txt(filename):\n",
    "    queue_rr = []\n",
    "    with open(filename) as f:\n",
    "        for index,line in enumerate(f.readlines()):\n",
    "            line = list(map(int, line.replace(\"\\n\",\"\").split()))\n",
    "            line.insert(0,index) # for index of process\n",
    "            line.insert(3,0) #0 for not hold\n",
    "            line.insert(4,line[2]) #for rest value\n",
    "            line.insert(5,[]) #for service time\n",
    "            line.insert(6,0) #for completion time\n",
    "            line.insert(7,0) #for turnaround time\n",
    "            line.insert(8,0) #for waiting time\n",
    "            queue_rr.append(line)\n",
    "    return queue_rr\n",
    "\n",
    "index_of_list = list(range(len(read_txt('rr_data.txt'))))\n",
    "index_of_list = cycle(index_of_list)\n",
    "df = get_process(all_process=sorting(read_txt('rr_data.txt')),q=3) #q for time quadrant\n",
    "print(tabulate(df, headers='keys', tablefmt='github',showindex=False))\n",
    "print('Avg. Waiting Time:',df['waiting time'].mean())\n",
    "print('Avg. Turnaround Time:',df['turnaround time'].mean())"
   ]
  },
  {
   "cell_type": "code",
   "execution_count": null,
   "id": "1958b619",
   "metadata": {},
   "outputs": [],
   "source": []
  }
 ],
 "metadata": {
  "kernelspec": {
   "display_name": "Python 3",
   "language": "python",
   "name": "python3"
  },
  "language_info": {
   "codemirror_mode": {
    "name": "ipython",
    "version": 3
   },
   "file_extension": ".py",
   "mimetype": "text/x-python",
   "name": "python",
   "nbconvert_exporter": "python",
   "pygments_lexer": "ipython3",
   "version": "3.8.8"
  }
 },
 "nbformat": 4,
 "nbformat_minor": 5
}
